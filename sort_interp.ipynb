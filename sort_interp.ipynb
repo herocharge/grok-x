{
 "cells": [
  {
   "cell_type": "code",
   "execution_count": 1,
   "metadata": {},
   "outputs": [],
   "source": [
    "import torch\n",
    "import torch.nn as nn\n",
    "import torch.nn.functional as F\n",
    "import torch.optim as optim\n",
    "import numpy as np\n",
    "import einops\n",
    "import tqdm.notebook as tqdm\n",
    "\n",
    "import random\n",
    "import time\n",
    "\n",
    "# from google.colab import drive\n",
    "from pathlib import Path\n",
    "import pickle\n",
    "import os\n",
    "\n",
    "import matplotlib.pyplot as plt\n",
    "from torch.utils.data import DataLoader\n",
    "from functools import *\n",
    "import pandas as pd\n",
    "import gc\n",
    "\n",
    "# import comet_ml\n",
    "import itertools\n"
   ]
  },
  {
   "cell_type": "code",
   "execution_count": 2,
   "metadata": {},
   "outputs": [],
   "source": [
    "\n",
    "# A helper class to get access to intermediate activations (inspired by Garcon)\n",
    "# It's a dummy module that is the identity function by default\n",
    "# I can wrap any intermediate activation in a HookPoint and get a convenient\n",
    "# way to add PyTorch hooks\n",
    "class HookPoint(nn.Module):\n",
    "    def __init__(self):\n",
    "        super().__init__()\n",
    "        self.fwd_hooks = []\n",
    "        self.bwd_hooks = []\n",
    "\n",
    "    def give_name(self, name):\n",
    "        # Called by the model at initialisation\n",
    "        self.name = name\n",
    "\n",
    "    def add_hook(self, hook, dir='fwd'):\n",
    "        # Hook format is fn(activation, hook_name)\n",
    "        # Change it into PyTorch hook format (this includes input and output,\n",
    "        # which are the same for a HookPoint)\n",
    "        def full_hook(module, module_input, module_output):\n",
    "            return hook(module_output, name=self.name)\n",
    "        if dir=='fwd':\n",
    "            handle = self.register_forward_hook(full_hook)\n",
    "            self.fwd_hooks.append(handle)\n",
    "        elif dir=='bwd':\n",
    "            handle = self.register_backward_hook(full_hook)\n",
    "            self.bwd_hooks.append(handle)\n",
    "        else:\n",
    "            raise ValueError(f\"Invalid direction {dir}\")\n",
    "\n",
    "    def remove_hooks(self, dir='fwd'):\n",
    "        if (dir=='fwd') or (dir=='both'):\n",
    "            for hook in self.fwd_hooks:\n",
    "                hook.remove()\n",
    "            self.fwd_hooks = []\n",
    "        if (dir=='bwd') or (dir=='both'):\n",
    "            for hook in self.bwd_hooks:\n",
    "                hook.remove()\n",
    "            self.bwd_hooks = []\n",
    "        if dir not in ['fwd', 'bwd', 'both']:\n",
    "            raise ValueError(f\"Invalid direction {dir}\")\n",
    "\n",
    "    def forward(self, x):\n",
    "        return x\n",
    "\n",
    "# Define network architecture\n",
    "# I defined my own transformer from scratch so I'd fully understand each component\n",
    "# - I expect this wasn't necessary or particularly important, and a bunch of this\n",
    "# replicates existing PyTorch functionality\n",
    "\n",
    "# Embed & Unembed\n",
    "class Embed(nn.Module):\n",
    "    def __init__(self, d_vocab, d_model):\n",
    "        super().__init__()\n",
    "        self.W_E = nn.Parameter(torch.randn(d_model, d_vocab)/np.sqrt(d_model))\n",
    "\n",
    "    def forward(self, x):\n",
    "        return torch.einsum('dbp -> bpd', self.W_E[:, x])\n",
    "\n",
    "class Unembed(nn.Module):\n",
    "    def __init__(self, d_vocab, d_model):\n",
    "        super().__init__()\n",
    "        self.W_U = nn.Parameter(torch.randn(d_model, d_vocab)/np.sqrt(d_vocab))\n",
    "\n",
    "    def forward(self, x):\n",
    "        return (x @ self.W_U)\n",
    "\n",
    "# Positional Embeddings\n",
    "class PosEmbed(nn.Module):\n",
    "    def __init__(self, max_ctx, d_model):\n",
    "        super().__init__()\n",
    "        self.W_pos = nn.Parameter(torch.randn(max_ctx, d_model)/np.sqrt(d_model))\n",
    "\n",
    "    def forward(self, x):\n",
    "        return x+self.W_pos[:x.shape[-2]]\n",
    "\n",
    "# LayerNorm\n",
    "class LayerNorm(nn.Module):\n",
    "    def __init__(self, d_model, epsilon = 1e-4, model=[None]):\n",
    "        super().__init__()\n",
    "        self.model = model\n",
    "        self.w_ln = nn.Parameter(torch.ones(d_model))\n",
    "        self.b_ln = nn.Parameter(torch.zeros(d_model))\n",
    "        self.epsilon = epsilon\n",
    "\n",
    "    def forward(self, x):\n",
    "        if self.model[0].use_ln:\n",
    "            x = x - x.mean(axis=-1)[..., None]\n",
    "            x = x / (x.std(axis=-1)[..., None] + self.epsilon)\n",
    "            x = x * self.w_ln\n",
    "            x = x + self.b_ln\n",
    "            return x\n",
    "        else:\n",
    "            return x\n",
    "\n",
    "# Attention\n",
    "class Attention(nn.Module):\n",
    "    def __init__(self, d_model, num_heads, d_head, n_ctx, model):\n",
    "        super().__init__()\n",
    "        self.model = model\n",
    "        self.W_K = nn.Parameter(torch.randn(num_heads, d_head, d_model)/np.sqrt(d_model))\n",
    "        self.W_Q = nn.Parameter(torch.randn(num_heads, d_head, d_model)/np.sqrt(d_model))\n",
    "        self.W_V = nn.Parameter(torch.randn(num_heads, d_head, d_model)/np.sqrt(d_model))\n",
    "        self.W_O = nn.Parameter(torch.randn(d_model, d_head * num_heads)/np.sqrt(d_model))\n",
    "        self.register_buffer('mask', torch.tril(torch.ones((n_ctx, n_ctx))))\n",
    "        self.d_head = d_head\n",
    "        self.hook_k = HookPoint()\n",
    "        self.hook_q = HookPoint()\n",
    "        self.hook_v = HookPoint()\n",
    "        self.hook_z = HookPoint()\n",
    "        self.hook_attn = HookPoint()\n",
    "        self.hook_attn_pre = HookPoint()\n",
    "\n",
    "    def forward(self, x):\n",
    "        k = self.hook_k(torch.einsum('ihd,bpd->biph', self.W_K, x))\n",
    "        q = self.hook_q(torch.einsum('ihd,bpd->biph', self.W_Q, x))\n",
    "        v = self.hook_v(torch.einsum('ihd,bpd->biph', self.W_V, x))\n",
    "        attn_scores_pre = torch.einsum('biph,biqh->biqp', k, q)\n",
    "        attn_scores_masked = torch.tril(attn_scores_pre) - 1e10 * (1 - self.mask[:x.shape[-2], :x.shape[-2]])\n",
    "        attn_matrix = self.hook_attn(F.softmax(self.hook_attn_pre(attn_scores_masked/np.sqrt(self.d_head)), dim=-1))\n",
    "        z = self.hook_z(torch.einsum('biph,biqp->biqh', v, attn_matrix))\n",
    "        z_flat = einops.rearrange(z, 'b i q h -> b q (i h)')\n",
    "        out = torch.einsum('df,bqf->bqd', self.W_O, z_flat)\n",
    "        return out\n",
    "\n",
    "# MLP Layers\n",
    "class MLP(nn.Module):\n",
    "    def __init__(self, d_model, d_mlp, act_type, model):\n",
    "        super().__init__()\n",
    "        self.model = model\n",
    "        self.W_in = nn.Parameter(torch.randn(d_mlp, d_model)/np.sqrt(d_model))\n",
    "        self.b_in = nn.Parameter(torch.zeros(d_mlp))\n",
    "        self.W_out = nn.Parameter(torch.randn(d_model, d_mlp)/np.sqrt(d_model))\n",
    "        self.b_out = nn.Parameter(torch.zeros(d_model))\n",
    "        self.act_type = act_type\n",
    "        # self.ln = LayerNorm(d_mlp, model=self.model)\n",
    "        self.hook_pre = HookPoint()\n",
    "        self.hook_post = HookPoint()\n",
    "        assert act_type in ['ReLU', 'GeLU']\n",
    "\n",
    "    def forward(self, x):\n",
    "        x = self.hook_pre(torch.einsum('md,bpd->bpm', self.W_in, x) + self.b_in)\n",
    "        if self.act_type=='ReLU':\n",
    "            x = F.relu(x)\n",
    "        elif self.act_type=='GeLU':\n",
    "            x = F.gelu(x)\n",
    "        x = self.hook_post(x)\n",
    "        x = torch.einsum('dm,bpm->bpd', self.W_out, x) + self.b_out\n",
    "        return x\n",
    "\n",
    "# Transformer Block\n",
    "class TransformerBlock(nn.Module):\n",
    "    def __init__(self, d_model, d_mlp, d_head, num_heads, n_ctx, act_type, model):\n",
    "        super().__init__()\n",
    "        self.model = model\n",
    "        # self.ln1 = LayerNorm(d_model, model=self.model)\n",
    "        self.attn = Attention(d_model, num_heads, d_head, n_ctx, model=self.model)\n",
    "        # self.ln2 = LayerNorm(d_model, model=self.model)\n",
    "        self.mlp = MLP(d_model, d_mlp, act_type, model=self.model)\n",
    "        self.hook_attn_out = HookPoint()\n",
    "        self.hook_mlp_out = HookPoint()\n",
    "        self.hook_resid_pre = HookPoint()\n",
    "        self.hook_resid_mid = HookPoint()\n",
    "        self.hook_resid_post = HookPoint()\n",
    "\n",
    "    def forward(self, x):\n",
    "        x = self.hook_resid_mid(x + self.hook_attn_out(self.attn((self.hook_resid_pre(x)))))\n",
    "        x = self.hook_resid_post(x + self.hook_mlp_out(self.mlp((x))))\n",
    "        return x\n",
    "\n",
    "# Full transformer\n",
    "class Transformer(nn.Module):\n",
    "    def __init__(self, num_layers, d_vocab, d_model, d_mlp, d_head, num_heads, n_ctx, act_type, use_cache=False, use_ln=True):\n",
    "        super().__init__()\n",
    "        self.cache = {}\n",
    "        self.use_cache = use_cache\n",
    "\n",
    "        self.embed = Embed(d_vocab, d_model)\n",
    "        self.pos_embed = PosEmbed(n_ctx, d_model)\n",
    "        self.blocks = nn.ModuleList([TransformerBlock(d_model, d_mlp, d_head, num_heads, n_ctx, act_type, model=[self]) for i in range(num_layers)])\n",
    "        # self.ln = LayerNorm(d_model, model=[self])\n",
    "        self.unembed = Unembed(d_vocab, d_model)\n",
    "        self.use_ln = use_ln\n",
    "\n",
    "        for name, module in self.named_modules():\n",
    "            if type(module)==HookPoint:\n",
    "                module.give_name(name)\n",
    "\n",
    "    def forward(self, x):\n",
    "        x = self.embed(x)\n",
    "        x = self.pos_embed(x)\n",
    "        for block in self.blocks:\n",
    "            x = block(x)\n",
    "        # x = self.ln(x)\n",
    "        x = self.unembed(x)\n",
    "        return x\n",
    "\n",
    "    def set_use_cache(self, use_cache):\n",
    "        self.use_cache = use_cache\n",
    "\n",
    "    def hook_points(self):\n",
    "        return [module for name, module in self.named_modules() if 'hook' in name]\n",
    "\n",
    "    def remove_all_hooks(self):\n",
    "        for hp in self.hook_points():\n",
    "            hp.remove_hooks('fwd')\n",
    "            hp.remove_hooks('bwd')\n",
    "\n",
    "    def cache_all(self, cache, incl_bwd=False):\n",
    "        # Caches all activations wrapped in a HookPoint\n",
    "        def save_hook(tensor, name):\n",
    "            cache[name] = tensor.detach()\n",
    "        def save_hook_back(tensor, name):\n",
    "            cache[name+'_grad'] = tensor[0].detach()\n",
    "        for hp in self.hook_points():\n",
    "            hp.add_hook(save_hook, 'fwd')\n",
    "            if incl_bwd:\n",
    "                hp.add_hook(save_hook_back, 'bwd')\n",
    "\n",
    "# Helper functions\n",
    "def cuda_memory():\n",
    "    print(torch.cuda.memory_allocated()/1e9)\n",
    "\n",
    "def cross_entropy_high_precision(logits, labels):\n",
    "    # Shapes: batch x seq x vocab, batch x seq\n",
    "    # Cast logits to float64 because log_softmax has a float32 underflow on overly\n",
    "    # confident data and can only return multiples of 1.2e-7 (the smallest float x\n",
    "    # such that 1+x is different from 1 in float32). This leads to loss spikes\n",
    "    # and dodgy gradients\n",
    "\n",
    "    logprobs = F.log_softmax(logits.to(torch.float64), dim=-1)\n",
    "    # print(logprobs.shape, labels.shape)\n",
    "    prediction_logprobs = torch.gather(logprobs, index=labels[:, :, None], dim=-1)\n",
    "    # print(prediction_logprobs.shape)\n",
    "    loss = -torch.mean(prediction_logprobs)\n",
    "    return loss\n",
    "\n",
    "def full_loss(model, data, arr_len, device='cuda'):\n",
    "    \"\"\"\n",
    "    Calculate the full loss and accuracy of the model.\n",
    "\n",
    "    Parameters:\n",
    "    model (nn.Module): The PyTorch model.\n",
    "    data (Tensor): The input data.\n",
    "    arr_len (int): The length of the array.\n",
    "\n",
    "    Returns:\n",
    "    tuple: A tuple containing the loss and accuracy.\n",
    "    \"\"\"\n",
    "    # Take the final position only\n",
    "    logits = model(data)[:, arr_len:-1]\n",
    "\n",
    "    # labels = torch.tensor([fn(i, j) for i, j, _ in data]).to('cuda')\n",
    "    # labels = torch.tensor([np.sort(x) for x in data])\n",
    "    labels = torch.tensor(data[:, arr_len + 1:]).to(device)\n",
    "\n",
    "    # Calculate loss\n",
    "    loss = cross_entropy_high_precision(logits, labels)\n",
    "\n",
    "    # Calculate accuracy\n",
    "    predictions = torch.argmax(logits, dim=2)\n",
    "    # print(predictions.shape, labels.shape, len(labels))\n",
    "    accuracy = torch.sum(predictions == labels) / (arr_len * len(labels))\n",
    "    # Calculate exact match accuracy\n",
    "    exact_match_accuracy = torch.sum(torch.all(predictions == labels, dim=-1)) / labels.shape[0]\n",
    "    return loss, accuracy,exact_match_accuracy\n"
   ]
  },
  {
   "cell_type": "code",
   "execution_count": 4,
   "metadata": {},
   "outputs": [],
   "source": [
    "lr=1e-4 #@param\n",
    "weight_decay = 1.0 #@param\n",
    "p=113 #@param\n",
    "d_model = 128 #@param\n",
    "fn_name = 'add' #@param ['add', 'subtract', 'x2xyy2','rand']\n",
    "frac_train = 0.3 #@param\n",
    "dataset_size = 10000 #@param\n",
    "num_epochs = 20000 #@param\n",
    "save_models = True #@param\n",
    "save_every = 1000 #@param\n",
    "# Stop training when test loss is <stopping_thresh\n",
    "stopping_thresh = -1 #@param\n",
    "seed = 0 #@param\n",
    "\n",
    "arr_len = 5 #@param\n",
    "\n",
    "start = 1 #@param\n",
    "end = 100 #@param\n",
    "\n",
    "num_layers = 1\n",
    "\n",
    "batch_style = 'full'\n",
    "d_vocab = p+1\n",
    "n_ctx = 3\n",
    "d_mlp = 4*d_model\n",
    "num_heads = 4\n",
    "assert d_model % num_heads == 0\n",
    "d_head = d_model//num_heads\n",
    "act_type = 'ReLU' #@param ['ReLU', 'GeLU']\n",
    "# batch_size = 512\n",
    "use_ln = False\n",
    "random_answers = np.random.randint(low=0, high=p, size=(p, p))\n",
    "fns_dict = {'add': lambda x,y:(x+y)%p, 'subtract': lambda x,y:(x-y)%p, 'x2xyy2':lambda x,y:(x**2+x*y+y**2)%p, 'rand':lambda x,y:random_answers[x][y]}\n",
    "fn = fns_dict[fn_name]\n"
   ]
  },
  {
   "cell_type": "code",
   "execution_count": 5,
   "metadata": {},
   "outputs": [],
   "source": [
    "model = Transformer(num_layers=num_layers, d_vocab=(end - start + 1 + 1), d_model=d_model, d_mlp=d_mlp, d_head=d_head, num_heads=num_heads, n_ctx=2 * arr_len + 1, act_type=act_type, use_cache=True, use_ln=use_ln)"
   ]
  },
  {
   "cell_type": "code",
   "execution_count": 94,
   "metadata": {},
   "outputs": [
    {
     "name": "stderr",
     "output_type": "stream",
     "text": [
      "/tmp/ipykernel_60018/1582388634.py:1: FutureWarning: You are using `torch.load` with `weights_only=False` (the current default value), which uses the default pickle module implicitly. It is possible to construct malicious pickle data which will execute arbitrary code during unpickling (See https://github.com/pytorch/pytorch/blob/main/SECURITY.md#untrusted-models for more details). In a future release, the default value for `weights_only` will be flipped to `True`. This limits the functions that could be executed during unpickling. Arbitrary objects will no longer be allowed to be loaded via this mode unless they are explicitly allowlisted by the user via `torch.serialization.add_safe_globals`. We recommend you start setting `weights_only=True` for any use case where you don't have full control of the loaded file. Please open an issue on GitHub for any issues related to this experimental feature.\n",
      "  state_dict = torch.load('./max5_unbalanced/3000.pth')\n"
     ]
    }
   ],
   "source": [
    "state_dict = torch.load('./max5_unbalanced/3000.pth')"
   ]
  },
  {
   "cell_type": "code",
   "execution_count": 75,
   "metadata": {},
   "outputs": [],
   "source": [
    "def generate(model, inp, it=5):\n",
    "    for _ in range(it):\n",
    "        logits = model(torch.tensor([inp]))[0, -1]\n",
    "        inp += [torch.argmax(logits).item()]\n",
    "    return inp\n",
    "    "
   ]
  },
  {
   "cell_type": "code",
   "execution_count": 87,
   "metadata": {},
   "outputs": [
    {
     "data": {
      "text/plain": [
       "[100, 100, 100, 100, 100, 0, 99, 100, 100, 100, 100]"
      ]
     },
     "execution_count": 87,
     "metadata": {},
     "output_type": "execute_result"
    }
   ],
   "source": [
    "generate(model, [100, 100, 100, 100, 100 ,0])"
   ]
  },
  {
   "cell_type": "code",
   "execution_count": 116,
   "metadata": {},
   "outputs": [],
   "source": [
    "cache = {}\n",
    "model.load_state_dict(state_dict=state_dict['model'])\n",
    "model.cache_all(cache)\n",
    "logits = model(torch.tensor([[9, 9, 9, 9, 9, 0]]))"
   ]
  },
  {
   "cell_type": "code",
   "execution_count": 119,
   "metadata": {},
   "outputs": [
    {
     "data": {
      "text/plain": [
       "tensor([1.2133e-14, 2.8188e-19, 5.3974e-19, 6.3419e-16, 1.3957e-14, 1.8202e-16,\n",
       "        6.2969e-20, 6.4036e-18, 4.4715e-16, 2.0711e-02, 1.1392e-15, 2.2810e-15,\n",
       "        5.4302e-18, 2.6683e-14, 4.9924e-19, 1.3238e-16, 1.5617e-16, 8.6689e-17,\n",
       "        3.5091e-06, 1.3803e-06, 7.2491e-05, 4.4337e-08, 3.6206e-04, 5.4173e-06,\n",
       "        1.1185e-05, 9.7691e-01, 3.0481e-06, 5.4826e-05, 1.9819e-06, 2.9280e-07,\n",
       "        5.9603e-05, 9.8793e-04, 1.5419e-04, 4.9706e-04, 1.2741e-07, 5.5706e-05,\n",
       "        5.7589e-12, 9.7193e-09, 1.6797e-07, 7.0151e-09, 2.2807e-11, 3.4504e-05,\n",
       "        6.4121e-07, 1.7443e-08, 1.1321e-09, 4.0765e-09, 1.0089e-09, 8.2814e-10,\n",
       "        5.8914e-09, 6.9164e-05, 9.3713e-11, 2.4103e-14, 3.2673e-11, 2.2452e-07,\n",
       "        1.0016e-16, 1.3445e-08, 8.9484e-08, 2.3284e-12, 2.2820e-15, 3.8174e-13,\n",
       "        5.0677e-10, 8.5496e-16, 2.7942e-20, 1.5381e-13, 1.0450e-10, 1.8587e-17,\n",
       "        2.9633e-17, 1.4887e-18, 6.9185e-21, 1.4474e-24, 5.6406e-14, 1.8453e-14,\n",
       "        1.0618e-13, 1.4654e-16, 5.9711e-14, 2.5506e-14, 1.4004e-17, 2.1165e-21,\n",
       "        1.4638e-16, 3.2994e-21, 3.0150e-20, 8.6942e-17, 9.2510e-17, 1.0867e-16,\n",
       "        8.5505e-24, 1.8104e-23, 9.9648e-18, 5.4880e-21, 4.8424e-25, 4.4132e-25,\n",
       "        9.9375e-22, 5.2180e-22, 1.9023e-28, 1.0315e-25, 3.0499e-23, 6.6400e-28,\n",
       "        8.3703e-25, 4.3091e-23, 1.0997e-31, 3.7078e-25, 3.6959e-25],\n",
       "       grad_fn=<SoftmaxBackward0>)"
      ]
     },
     "execution_count": 119,
     "metadata": {},
     "output_type": "execute_result"
    }
   ],
   "source": [
    "(logits[0,-1].softmax(dim=-1))"
   ]
  },
  {
   "cell_type": "code",
   "execution_count": 121,
   "metadata": {},
   "outputs": [
    {
     "data": {
      "image/png": "[encoded data removed]",
      "text/plain": [
       "<Figure size 640x480 with 1 Axes>"
      ]
     },
     "metadata": {},
     "output_type": "display_data"
    }
   ],
   "source": [
    "logits[0, -1].shape\n",
    "plt.plot((logits[0, -1].softmax(-1)).detach().numpy())\n",
    "plt.axvline(x=1, color='r', linestyle='--', label='Vertical Line 1')\n",
    "plt.axvline(x=20, color='r', linestyle='--', label='Vertical Line 1')\n",
    "plt.axvline(x=78, color='r', linestyle='--', label='Vertical Line 2')\n",
    "plt.axvline(x=9, color='r', linestyle='--', label='Vertical Line 2')\n",
    "plt.show()"
   ]
  },
  {
   "cell_type": "code",
   "execution_count": 117,
   "metadata": {},
   "outputs": [
    {
     "data": {
      "text/plain": [
       "tensor(25)"
      ]
     },
     "execution_count": 117,
     "metadata": {},
     "output_type": "execute_result"
    }
   ],
   "source": [
    "torch.argmax(logits[0, -1])"
   ]
  },
  {
   "cell_type": "code",
   "execution_count": 83,
   "metadata": {},
   "outputs": [
    {
     "name": "stderr",
     "output_type": "stream",
     "text": [
      "/tmp/ipykernel_60018/2073116116.py:1: FutureWarning: You are using `torch.load` with `weights_only=False` (the current default value), which uses the default pickle module implicitly. It is possible to construct malicious pickle data which will execute arbitrary code during unpickling (See https://github.com/pytorch/pytorch/blob/main/SECURITY.md#untrusted-models for more details). In a future release, the default value for `weights_only` will be flipped to `True`. This limits the functions that could be executed during unpickling. Arbitrary objects will no longer be allowed to be loaded via this mode unless they are explicitly allowlisted by the user via `torch.serialization.add_safe_globals`. We recommend you start setting `weights_only=True` for any use case where you don't have full control of the loaded file. Please open an issue on GitHub for any issues related to this experimental feature.\n",
      "  init_dict = torch.load('./sort5/init.pth')\n"
     ]
    }
   ],
   "source": [
    "init_dict = torch.load('./sort5/init.pth')"
   ]
  },
  {
   "cell_type": "code",
   "execution_count": 84,
   "metadata": {},
   "outputs": [
    {
     "data": {
      "text/plain": [
       "(20000, 11)"
      ]
     },
     "execution_count": 84,
     "metadata": {},
     "output_type": "execute_result"
    }
   ],
   "source": [
    "tr = init_dict['train_data']\n",
    "te = init_dict['test_data']\n",
    "tr.shape"
   ]
  },
  {
   "cell_type": "code",
   "execution_count": 12,
   "metadata": {},
   "outputs": [
    {
     "ename": "TypeError",
     "evalue": "all() received an invalid combination of arguments - got (numpy.ndarray, dim=int), but expected one of:\n * (Tensor input, *, Tensor out = None)\n * (Tensor input, tuple of ints dim = None, bool keepdim = False, *, Tensor out = None)\n * (Tensor input, int dim, bool keepdim = False, *, Tensor out = None)\n * (Tensor input, name dim, bool keepdim = False, *, Tensor out = None)\n",
     "output_type": "error",
     "traceback": [
      "\u001b[0;31m---------------------------------------------------------------------------\u001b[0m",
      "\u001b[0;31mTypeError\u001b[0m                                 Traceback (most recent call last)",
      "Cell \u001b[0;32mIn[12], line 1\u001b[0m\n\u001b[0;32m----> 1\u001b[0m common_rows \u001b[38;5;241m=\u001b[39m \u001b[43mtorch\u001b[49m\u001b[38;5;241;43m.\u001b[39;49m\u001b[43mall\u001b[49m\u001b[43m(\u001b[49m\u001b[43mtr\u001b[49m\u001b[43m[\u001b[49m\u001b[43m:\u001b[49m\u001b[38;5;241;43m100\u001b[39;49m\u001b[43m]\u001b[49m\u001b[43m[\u001b[49m\u001b[43m:\u001b[49m\u001b[43m,\u001b[49m\u001b[43m \u001b[49m\u001b[38;5;28;43;01mNone\u001b[39;49;00m\u001b[43m]\u001b[49m\u001b[43m \u001b[49m\u001b[38;5;241;43m==\u001b[39;49m\u001b[43m \u001b[49m\u001b[43mte\u001b[49m\u001b[43m[\u001b[49m\u001b[43m:\u001b[49m\u001b[38;5;241;43m100\u001b[39;49m\u001b[43m]\u001b[49m\u001b[43m,\u001b[49m\u001b[43m \u001b[49m\u001b[43mdim\u001b[49m\u001b[38;5;241;43m=\u001b[39;49m\u001b[38;5;241;43m2\u001b[39;49m\u001b[43m)\u001b[49m\n\u001b[1;32m      2\u001b[0m num_common_rows \u001b[38;5;241m=\u001b[39m torch\u001b[38;5;241m.\u001b[39msum(torch\u001b[38;5;241m.\u001b[39many(common_rows, dim\u001b[38;5;241m=\u001b[39m\u001b[38;5;241m0\u001b[39m))\n",
      "\u001b[0;31mTypeError\u001b[0m: all() received an invalid combination of arguments - got (numpy.ndarray, dim=int), but expected one of:\n * (Tensor input, *, Tensor out = None)\n * (Tensor input, tuple of ints dim = None, bool keepdim = False, *, Tensor out = None)\n * (Tensor input, int dim, bool keepdim = False, *, Tensor out = None)\n * (Tensor input, name dim, bool keepdim = False, *, Tensor out = None)\n"
     ]
    }
   ],
   "source": [
    "common_rows = torch.all(tr[:100][:, None] == te[:100], dim=2)\n",
    "num_common_rows = torch.sum(torch.any(common_rows, dim=0))\n"
   ]
  },
  {
   "cell_type": "code",
   "execution_count": null,
   "metadata": {},
   "outputs": [],
   "source": [
    "num_common_rows"
   ]
  },
  {
   "cell_type": "code",
   "execution_count": 42,
   "metadata": {},
   "outputs": [
    {
     "name": "stdout",
     "output_type": "stream",
     "text": [
      "[ 0 18 23 78 91 91 91]\n",
      "[  0  13  39  40  69 100 100]\n",
      "[ 0 14 15 16 59 86 86]\n",
      "[ 0 13 35 43 64 97 97]\n"
     ]
    },
    {
     "data": {
      "text/plain": [
       "4"
      ]
     },
     "execution_count": 42,
     "metadata": {},
     "output_type": "execute_result"
    }
   ],
   "source": [
    "tr_s = tr.sort(axis=-1)\n",
    "te_s = te.sort(axis=-1)\n",
    "\n",
    "cnt = 0\n",
    "for i, x in enumerate(te):\n",
    "    # print(x.shape, )\n",
    "    if torch.tensor(tr == te[i]).all(dim=1).any():\n",
    "        # print(x)\n",
    "        cnt+=1\n",
    "\n",
    "        print(x)\n",
    "cnt"
   ]
  },
  {
   "cell_type": "code",
   "execution_count": 36,
   "metadata": {},
   "outputs": [
    {
     "data": {
      "text/plain": [
       "0"
      ]
     },
     "execution_count": 36,
     "metadata": {},
     "output_type": "execute_result"
    }
   ],
   "source": [
    "cnt = 0\n",
    "for i, x in enumerate(te):\n",
    "    # print(x.shape, )\n",
    "    if torch.tensor(tr == te[i]).all(dim=1).any():\n",
    "        # print(x)\n",
    "        cnt+=1\n",
    "        print(cnt)\n",
    "cnt"
   ]
  },
  {
   "cell_type": "code",
   "execution_count": null,
   "metadata": {},
   "outputs": [
    {
     "data": {
      "text/plain": [
       "tensor(False)"
      ]
     },
     "execution_count": 33,
     "metadata": {},
     "output_type": "execute_result"
    }
   ],
   "source": []
  },
  {
   "cell_type": "code",
   "execution_count": 91,
   "metadata": {},
   "outputs": [
    {
     "data": {
      "text/plain": [
       "(array([  9,  18,  19,  20,  21,  22,  23,  24,  25,  26,  27,  28,  29,\n",
       "         30,  31,  32,  33,  34,  35,  36,  37,  38,  39,  40,  41,  42,\n",
       "         43,  44,  45,  46,  47,  48,  49,  50,  51,  52,  53,  54,  55,\n",
       "         56,  57,  58,  59,  60,  61,  62,  63,  64,  65,  66,  67,  68,\n",
       "         69,  70,  71,  72,  73,  74,  75,  76,  77,  78,  79,  80,  81,\n",
       "         82,  83,  84,  85,  86,  87,  88,  89,  90,  91,  92,  93,  94,\n",
       "         95,  96,  97,  98,  99, 100]),\n",
       " array([  1,   1,   1,   1,   3,   1,   3,   1,   2,   4,  10,   4,   7,\n",
       "          4,   8,   6,  13,  18,   6,   9,  12,  20,  25,  21,  26,  22,\n",
       "         34,  24,  32,  41,  52,  56,  62,  55,  66,  70,  79,  78,  89,\n",
       "        102,  96, 106, 139, 108, 136, 145, 145, 163, 186, 192, 202, 221,\n",
       "        240, 225, 250, 247, 269, 283, 303, 346, 332, 358, 390, 377, 404,\n",
       "        431, 441, 453, 515, 509, 551, 638, 585, 664, 654, 711, 746, 817,\n",
       "        842, 837, 836, 901, 975, 962]))"
      ]
     },
     "execution_count": 91,
     "metadata": {},
     "output_type": "execute_result"
    }
   ],
   "source": [
    "np.unique(tr[:, 10].flatten(), return_counts=True)"
   ]
  },
  {
   "cell_type": "code",
   "execution_count": 14,
   "metadata": {},
   "outputs": [
    {
     "data": {
      "text/plain": [
       "(array([  0,   1,   2,   3,   4,   5,   6,   7,   8,   9,  10,  11,  12,\n",
       "         13,  14,  15,  16,  17,  18,  19,  20,  21,  22,  23,  24,  25,\n",
       "         26,  27,  28,  29,  30,  31,  32,  33,  34,  35,  36,  37,  38,\n",
       "         39,  40,  41,  42,  43,  44,  45,  46,  47,  48,  49,  50,  51,\n",
       "         52,  53,  54,  55,  56,  57,  58,  59,  60,  61,  62,  63,  64,\n",
       "         65,  66,  67,  68,  69,  70,  71,  72,  73,  74,  75,  76,  77,\n",
       "         78,  79,  80,  81,  82,  83,  84,  85,  86,  87,  88,  89,  90,\n",
       "         91,  92,  93,  94,  95,  96,  97,  98,  99, 100]),\n",
       " array([20000,   983,  1032,  1018,   997,  1003,  1084,  1044,   962,\n",
       "         1004,  1012,   996,   991,  1013,   986,  1011,  1020,  1018,\n",
       "          965,   924,  1036,   953,   999,   986,   934,  1025,  1057,\n",
       "         1056,   964,   964,  1021,   989,   994,   913,   977,   971,\n",
       "         1000,  1042,  1033,   995,  1008,   977,   987,   982,  1010,\n",
       "         1027,  1081,   956,  1003,  1011,   990,  1039,  1015,  1019,\n",
       "          969,  1004,   999,   969,   981,  1019,   939,   994,   973,\n",
       "          976,   979,   974,   998,  1009,  1079,  1060,   942,  1030,\n",
       "         1024,   985,  1004,   950,  1025,   983,  1002,  1037,   975,\n",
       "         1017,   971,   996,   942,  1028,   969,   966,  1055,   998,\n",
       "         1058,   967,  1022,  1016,  1032,  1045,   980,   983,   992,\n",
       "         1030,   977]))"
      ]
     },
     "execution_count": 14,
     "metadata": {},
     "output_type": "execute_result"
    }
   ],
   "source": [
    "np.unique(tr[:,:-1].flatten(), return_counts=True)"
   ]
  },
  {
   "cell_type": "code",
   "execution_count": 15,
   "metadata": {},
   "outputs": [
    {
     "name": "stdout",
     "output_type": "stream",
     "text": [
      "embed.W_E\n",
      "pos_embed.W_pos\n",
      "blocks.0.attn.W_K\n",
      "blocks.0.attn.W_Q\n",
      "blocks.0.attn.W_V\n",
      "blocks.0.attn.W_O\n",
      "blocks.0.mlp.W_in\n",
      "blocks.0.mlp.b_in\n",
      "blocks.0.mlp.W_out\n",
      "blocks.0.mlp.b_out\n",
      "unembed.W_U\n"
     ]
    }
   ],
   "source": [
    "for name, parma in model.named_parameters():\n",
    "    print(name)"
   ]
  },
  {
   "cell_type": "code",
   "execution_count": 70,
   "metadata": {},
   "outputs": [
    {
     "data": {
      "text/plain": [
       "tensor(0.7014, device='cuda:0')"
      ]
     },
     "execution_count": 70,
     "metadata": {},
     "output_type": "execute_result"
    }
   ],
   "source": [
    "posemb = state_dict['model']['pos_embed.W_pos']\n",
    "torch.nn.functional.cosine_similarity(posemb[2], posemb[3], dim=-1)"
   ]
  },
  {
   "cell_type": "code",
   "execution_count": 16,
   "metadata": {},
   "outputs": [
    {
     "data": {
      "text/plain": [
       "tensor([ 0.1259,  0.2533,  0.0897,  0.0441,  0.1471,  0.1510,  0.0424,  0.1423,\n",
       "         0.1608,  0.0490,  0.1179,  0.1008,  0.1049,  0.0392,  0.1429,  0.1048,\n",
       "         0.0712,  0.1164,  0.1196,  0.1489,  0.1084,  0.0857,  0.0750,  0.0248,\n",
       "         0.0666,  0.1847,  0.1384,  0.1600,  0.0889,  0.0506,  0.1518,  0.1631,\n",
       "         0.0708,  0.1518,  0.0415,  0.0947,  0.0629,  0.1294,  0.0331,  0.0285,\n",
       "         0.1084,  0.1484,  0.0865,  0.1551,  0.1805,  0.0916,  0.0895,  0.1082,\n",
       "         0.1252,  0.0488,  0.0379,  0.0220,  0.1183,  0.1610,  0.1272,  0.0788,\n",
       "         0.2069,  0.0876,  0.2081, -0.0110,  0.0467,  0.1589,  0.0831,  0.0567,\n",
       "         0.0935,  0.0597,  0.1389,  0.0991,  0.0974,  0.1015,  0.1642,  0.0279,\n",
       "         0.1283,  0.0854,  0.1110,  0.1279,  0.1414,  0.1395,  0.1015,  0.0367,\n",
       "         0.1073,  0.0848,  0.0635,  0.1744,  0.0748,  0.1349,  0.0308,  0.1319,\n",
       "         0.0593,  0.1497,  0.1194,  0.2095,  0.0658,  0.1432,  0.1131,  0.0313,\n",
       "         0.1124,  0.0627,  0.1211,  0.1587,  0.1326,  0.2092,  0.0797,  0.0246,\n",
       "         0.1262,  0.0202,  0.1089,  0.0152,  0.0963,  0.1010,  0.0937,  0.0883,\n",
       "         0.0452,  0.0849,  0.1027,  0.0672,  0.1258,  0.0747,  0.1371,  0.0705,\n",
       "         0.0986,  0.0527,  0.1498,  0.0526,  0.0620,  0.1153,  0.0651,  0.0792],\n",
       "       device='cuda:0')"
      ]
     },
     "execution_count": 16,
     "metadata": {},
     "output_type": "execute_result"
    }
   ],
   "source": [
    "state_dict['model']['embed.W_E'].norm(dim=-1) - init_dict['model']['embed.W_E'].norm(dim=-1)"
   ]
  },
  {
   "cell_type": "code",
   "execution_count": null,
   "metadata": {},
   "outputs": [
    {
     "data": {
      "text/plain": [
       "torch.Size([1, 4, 128])"
      ]
     },
     "execution_count": 72,
     "metadata": {},
     "output_type": "execute_result"
    }
   ],
   "source": [
    "cache['blocks.0.hook_resid_pre']"
   ]
  }
 ],
 "metadata": {
  "kernelspec": {
   "display_name": "Python 3",
   "language": "python",
   "name": "python3"
  },
  "language_info": {
   "codemirror_mode": {
    "name": "ipython",
    "version": 3
   },
   "file_extension": ".py",
   "mimetype": "text/x-python",
   "name": "python",
   "nbconvert_exporter": "python",
   "pygments_lexer": "ipython3",
   "version": "3.8.10"
  }
 },
 "nbformat": 4,
 "nbformat_minor": 2
}
